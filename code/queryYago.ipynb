{
 "cells": [
  {
   "cell_type": "markdown",
   "metadata": {},
   "source": [
    "# YAGO Queries\n",
    "\n",
    "(C) 2024 by [Damir Cavar](http://damir.cavar.me/)\n",
    "\n",
    "\n",
    "This code contains some examples to enable YAGO 4.5 queries using the remote server. You can query YAGO online:\n",
    "\n",
    "- [YAGO Query](https://yago-knowledge.org/sparql)\n",
    "\n",
    "Install the necessary Python modules using:"
   ]
  },
  {
   "cell_type": "code",
   "execution_count": null,
   "metadata": {},
   "outputs": [],
   "source": [
    "!pip install -U --user SPARQLWrapper"
   ]
  },
  {
   "cell_type": "markdown",
   "metadata": {},
   "source": [
    "Import `SPARQLWrapper`:"
   ]
  },
  {
   "cell_type": "code",
   "execution_count": 2,
   "metadata": {},
   "outputs": [],
   "source": [
    "from SPARQLWrapper import SPARQLWrapper, RDF, JSON, TURTLE"
   ]
  },
  {
   "cell_type": "code",
   "execution_count": 7,
   "metadata": {},
   "outputs": [],
   "source": [
    "sparql = SPARQLWrapper(\"https://yago-knowledge.org/sparql/query\")\n",
    "sparql.setTimeout(60000) # one minute timeout on YAGO endpoint\n",
    "sparql.setQuery(\"\"\"\n",
    "    PREFIX schema: <http://schema.org/>\n",
    "    PREFIX yago: <http://yago-knowledge.org/resource/>\n",
    "    PREFIX rdf: <http://www.w3.org/1999/02/22-rdf-syntax-ns#>\n",
    "    PREFIX rdfs: <http://www.w3.org/2000/01/rdf-schema#>\n",
    "    SELECT * WHERE {\n",
    "        yago:Elvis_Presley ?pred ?obj .\n",
    "    } \n",
    "    LIMIT 10\n",
    "\"\"\")\n",
    "#sparql.setReturnFormat(TURTLE)\n",
    "#sparql.setReturnFormat(RDF)\n",
    "results = sparql.query() # .convert()"
   ]
  },
  {
   "cell_type": "code",
   "execution_count": 10,
   "metadata": {},
   "outputs": [
    {
     "name": "stdout",
     "output_type": "stream",
     "text": [
      "<SPARQLWrapper.Wrapper.QueryResult object at 0x000001FEA5A647D0>\n",
      "{\"requestedFormat\" : 'xml',\n",
      "\"response (a file-like object, as return by the urllib2.urlopen library call)\" : {\n",
      "\t\"url\" : \"https://yago-knowledge.org/sparql/query?query=%0A++++PREFIX+schema%3A+%3Chttp%3A//schema.org/%3E%0A++++PREFIX+yago%3A+%3Chttp%3A//yago-knowledge.org/resource/%3E%0A++++PREFIX+rdf%3A+%3Chttp%3A//www.w3.org/1999/02/22-rdf-syntax-ns%23%3E%0A++++PREFIX+rdfs%3A+%3Chttp%3A//www.w3.org/2000/01/rdf-schema%23%3E%0A++++SELECT+%2A+WHERE+%7B%0A++++++++yago%3AElvis_Presley+%3Fpred+%3Fobj+.%0A++++%7D+%0A++++LIMIT+10%0A&format=xml&output=xml&results=xml\",\n",
      "\t\"code\" : \"200\",\n",
      "\t\"headers\" : Server: nginx/1.14.0 (Ubuntu)\n",
      "Date: Thu, 01 Aug 2024 05:03:50 GMT\n",
      "Content-Type: application/sparql-results+xml;charset=utf-8\n",
      "Transfer-Encoding: chunked\n",
      "Connection: close\n",
      "X-Frame-Options: SAMEORIGIN\n",
      "Access-Control-Allow-Origin: *\n",
      "Access-Control-Allow-Methods: GET, POST, OPTIONS\n",
      "Access-Control-Allow-Headers: DNT,User-Agent,X-Requested-With,If-Modified-Since,Cache-Control,Content-Type,Range\n",
      "Access-Control-Expose-Headers: Content-Length,Content-Range\n",
      "\n",
      "}}\n"
     ]
    }
   ],
   "source": [
    "print(results)"
   ]
  }
 ],
 "metadata": {
  "kernelspec": {
   "display_name": "Python 3",
   "language": "python",
   "name": "python3"
  },
  "language_info": {
   "codemirror_mode": {
    "name": "ipython",
    "version": 3
   },
   "file_extension": ".py",
   "mimetype": "text/x-python",
   "name": "python",
   "nbconvert_exporter": "python",
   "pygments_lexer": "ipython3",
   "version": "3.12.3"
  }
 },
 "nbformat": 4,
 "nbformat_minor": 2
}
