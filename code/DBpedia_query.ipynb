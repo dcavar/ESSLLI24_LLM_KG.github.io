{
 "cells": [
  {
   "cell_type": "markdown",
   "metadata": {},
   "source": [
    "# SPARQL Endpoint for Graph\n",
    "\n",
    "(C) 2024 by [Damir Cavar](http://damir.cavar.me/)\n",
    "\n",
    "In this notebook we try to communicate with DBpedia. You can test your query here:\n",
    "\n",
    "- [DBpedia SPARQL endpoint]()\n",
    "\n",
    "Below is an example of a communication with our own SPARQL endpoint.\n"
   ]
  },
  {
   "cell_type": "code",
   "execution_count": null,
   "metadata": {},
   "outputs": [],
   "source": [
    "import urllib, json\n",
    "from SPARQLWrapper import SPARQLWrapper, JSON"
   ]
  },
  {
   "cell_type": "code",
   "execution_count": null,
   "metadata": {},
   "outputs": [],
   "source": [
    "sparql = SPARQLWrapper(\"http://dbpedia.org/sparql\")\n",
    "sparql.setReturnFormat(JSON)"
   ]
  },
  {
   "cell_type": "code",
   "execution_count": null,
   "metadata": {},
   "outputs": [],
   "source": [
    "sparql.setQuery(\"\"\"PREFIX schema: <http://schema.org/>\n",
    "PREFIX yago: <http://yago-knowledge.org/resource/>\n",
    "PREFIX rdf: <http://www.w3.org/1999/02/22-rdf-syntax-ns#>\n",
    "PREFIX rdfs: <http://www.w3.org/2000/01/rdf-schema#>\n",
    "SELECT * WHERE {\n",
    "  ?subj  ?pred \"Elvis Presley\" .\n",
    "} \n",
    "LIMIT 10\"\"\")"
   ]
  },
  {
   "cell_type": "code",
   "execution_count": null,
   "metadata": {},
   "outputs": [],
   "source": [
    "sparql.setQuery(\"\"\"PREFIX dbres: <http://dbpedia.org/resource/>\n",
    "\n",
    "DESCRIBE dbres:United_States\n",
    "LIMIT 10\"\"\")"
   ]
  },
  {
   "cell_type": "code",
   "execution_count": null,
   "metadata": {},
   "outputs": [],
   "source": [
    "sparql.setReturnFormat(JSON)\n",
    "results = sparql.query().convert()"
   ]
  },
  {
   "cell_type": "markdown",
   "metadata": {},
   "source": [
    "## Query on Our Own Server\n",
    "\n",
    "If you set up your own [Virtuoso server](https://virtuoso.openlinksw.com/), you can store ontologies and knowledge graphs in it and query them as described below.\n",
    "\n",
    "The server is located at `http://localhoist:8890/sparql`. Our basic graph has the URI `http://localhoist:8890/DAV/cis`.\n",
    "\n",
    "We can query the graph using SPARQL and just urllib:"
   ]
  },
  {
   "cell_type": "code",
   "execution_count": null,
   "metadata": {},
   "outputs": [],
   "source": [
    "def sparqlQuery(query, baseURL, format=\"application/json\"):\n",
    "\tparams={\n",
    "\t\t\"default-graph\": \"http://localhoist:8890/DAV/cis\",\n",
    "\t\t\"named_graphs\": [ \"http://localhoist:8890/DAV/cis\" ],\n",
    "\t\t\"should-sponge\": \"soft\",\n",
    "\t\t\"query\": query,\n",
    "\t\t\"debug\": \"on\",\n",
    "\t\t\"timeout\": \"\",\n",
    "\t\t\"format\": format,\n",
    "\t\t\"save\": \"display\",\n",
    "\t\t\"fname\": \"\"\n",
    "\t}\n",
    "\tquerypart=urllib.parse.urlencode(params)\n",
    "\tquerypart = querypart.encode('utf-8')\n",
    "\tresponse = urllib.request.urlopen(baseURL, querypart)\n",
    "\tdata = response.read()\n",
    "\treturn json.loads(data.decode('utf-8'))"
   ]
  },
  {
   "cell_type": "markdown",
   "metadata": {},
   "source": [
    "The query function requires a query text and the endpoint URI. Optionally one can specify the returned data format. By default it is JSON."
   ]
  },
  {
   "cell_type": "code",
   "execution_count": null,
   "metadata": {},
   "outputs": [],
   "source": [
    "dsn=\"http://localhost:8890/sparql\"\n",
    "query=\"\"\"SELECT ?s ?label WHERE {\n",
    "   ?s rdfs:subClassOf <http://www.esslli.org/kg/sec/Corporation> ;\n",
    "      rdfs:label      ?label\n",
    "} LIMIT 30\"\"\" # % dsn \n",
    "\n",
    "data = sparqlQuery(query, dsn)\n",
    "print(\"Retrieved data:\\n\" + json.dumps(data, sort_keys=True, indent=4))"
   ]
  },
  {
   "cell_type": "markdown",
   "metadata": {},
   "source": [
    "This can be simplified with the SPARQLWrapper as in the following:"
   ]
  },
  {
   "cell_type": "code",
   "execution_count": null,
   "metadata": {},
   "outputs": [],
   "source": [
    "sparql = SPARQLWrapper(dsn)\n",
    "sparql.setReturnFormat(JSON)\n",
    "sparql.setQuery(query)\n",
    "result = sparql.query().convert()"
   ]
  },
  {
   "cell_type": "code",
   "execution_count": null,
   "metadata": {},
   "outputs": [],
   "source": [
    "print(json.dumps(result, sort_keys=True, indent=4))"
   ]
  }
 ],
 "metadata": {
  "kernelspec": {
   "display_name": "Python 3",
   "language": "python",
   "name": "python3"
  },
  "language_info": {
   "codemirror_mode": {
    "name": "ipython",
    "version": 3
   },
   "file_extension": ".py",
   "mimetype": "text/x-python",
   "name": "python",
   "nbconvert_exporter": "python",
   "pygments_lexer": "ipython3",
   "version": "3.12.3"
  }
 },
 "nbformat": 4,
 "nbformat_minor": 2
}
